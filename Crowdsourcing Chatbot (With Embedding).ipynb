{
 "cells": [
  {
   "cell_type": "code",
   "execution_count": 10,
   "id": "25bcaf8b",
   "metadata": {},
   "outputs": [],
   "source": [
    "from neo4j import GraphDatabase\n",
    "from langchain.chains import GraphQAChain\n",
    "from langchain.chat_models import ChatOpenAI\n",
    "from langchain_community.graphs import Neo4jGraph\n",
    "from langchain.chains import RetrievalQAWithSourcesChain\n",
    "from langchain.vectorstores import Neo4jVector\n",
    "from langchain.embeddings.openai import OpenAIEmbeddings\n",
    "from langchain.prompts import PromptTemplate"
   ]
  },
  {
   "cell_type": "code",
   "execution_count": 3,
   "id": "eab6c2d4",
   "metadata": {},
   "outputs": [],
   "source": [
    "NEO4J_URL = \"\"\n",
    "NEO4J_USERNAME = \"\"\n",
    "NEO4J_PASSWORD = \"\"\n",
    "NEO4J_DATABASE = \"\"\n",
    "openai_key = \"\"\n",
    "\n",
    "driver = GraphDatabase.driver(NEO4J_URL, auth=(NEO4J_USERNAME, NEO4J_PASSWORD))\n",
    "\n",
    "kg = Neo4jGraph(\n",
    "    url=NEO4J_URL,\n",
    "    username=NEO4J_USERNAME,\n",
    "    password=NEO4J_PASSWORD,\n",
    "    database=NEO4J_DATABASE\n",
    ")"
   ]
  },
  {
   "cell_type": "code",
   "execution_count": 4,
   "id": "a31c621d",
   "metadata": {},
   "outputs": [],
   "source": [
    "cypher = \"\"\"\n",
    "    MATCH (n)\n",
    "    WHERE ANY(label IN labels(n) WHERE label IN ['Condition', 'Insurance', 'Medication', 'Attribute'])\n",
    "    SET n:Task\n",
    "    RETURN COUNT(n) AS nodes_labeled\n",
    "    \"\"\""
   ]
  },
  {
   "cell_type": "code",
   "execution_count": 5,
   "id": "ad3d9398",
   "metadata": {},
   "outputs": [
    {
     "data": {
      "text/plain": [
       "[{'nodes_labeled': 27}]"
      ]
     },
     "execution_count": 5,
     "metadata": {},
     "output_type": "execute_result"
    }
   ],
   "source": [
    "kg.query(cypher)"
   ]
  },
  {
   "cell_type": "code",
   "execution_count": 13,
   "id": "5ed3a9d9",
   "metadata": {},
   "outputs": [],
   "source": [
    "vector_store = Neo4jVector.from_existing_graph(\n",
    "    embedding=OpenAIEmbeddings(openai_api_key=openai_key),\n",
    "    url=NEO4J_URL,\n",
    "    username=NEO4J_USERNAME,\n",
    "    password=NEO4J_PASSWORD,\n",
    "    database=NEO4J_DATABASE,\n",
    "    index_name=\"vector_index\"\n",
    "    node_label=\"Task\",\n",
    "    text_node_properties=[\"name\", \"description\"],\n",
    "    embedding_node_property=\"embedding\"\n",
    ")\n",
    "\n",
    "# Create a retriever and Q&A chain\n",
    "retriever = vector_store.as_retriever()\n",
    "\n",
    "custom_prompt = PromptTemplate(\n",
    "    input_variables=[\"page_content\"],\n",
    "    template=\"{page_content}\\n\\n\"\n",
    ")\n",
    "\n",
    "qa_chain = RetrievalQAWithSourcesChain.from_chain_type(\n",
    "    llm=ChatOpenAI(temperature=0, openai_api_key=openai_key, model=\"gpt-4\"),\n",
    "    chain_type=\"stuff\",\n",
    "    retriever=retriever,\n",
    "    chain_type_kwargs={\"document_prompt\": custom_prompt}\n",
    ")"
   ]
  },
  {
   "cell_type": "code",
   "execution_count": 14,
   "id": "974b847a",
   "metadata": {},
   "outputs": [
    {
     "data": {
      "text/plain": [
       "{'answer': 'The brand of PCSK9 inhibitors that may cause loss of appetite is Repatha.\\n',\n",
       " 'sources': ''}"
      ]
     },
     "execution_count": 14,
     "metadata": {},
     "output_type": "execute_result"
    }
   ],
   "source": [
    "question = \"What brand of PCSK9 inhibitors will cause loss of appetite? If you are unsure about the answer, return 'I don't know'. Do not say anything else.\"\n",
    "qa_chain(\n",
    "    {\"question\": question},\n",
    "    return_only_outputs=True,\n",
    ")"
   ]
  },
  {
   "cell_type": "code",
   "execution_count": 18,
   "id": "a6fe5d45",
   "metadata": {},
   "outputs": [
    {
     "data": {
      "text/plain": [
       "{'answer': 'The brand of PCSK9 inhibitors that may cause stomach pain is Repatha.\\n',\n",
       " 'sources': ''}"
      ]
     },
     "execution_count": 18,
     "metadata": {},
     "output_type": "execute_result"
    }
   ],
   "source": [
    "question = \"What brand of PCSK9 inhibitors will cause stomach pain? If you are unsure about the answer, return 'I don't know'. Do not say anything else.\"\n",
    "qa_chain(\n",
    "    {\"question\": question},\n",
    "    return_only_outputs=True,\n",
    ")"
   ]
  }
 ],
 "metadata": {
  "kernelspec": {
   "display_name": "Python 3 (ipykernel)",
   "language": "python",
   "name": "python3"
  },
  "language_info": {
   "codemirror_mode": {
    "name": "ipython",
    "version": 3
   },
   "file_extension": ".py",
   "mimetype": "text/x-python",
   "name": "python",
   "nbconvert_exporter": "python",
   "pygments_lexer": "ipython3",
   "version": "3.10.9"
  }
 },
 "nbformat": 4,
 "nbformat_minor": 5
}
